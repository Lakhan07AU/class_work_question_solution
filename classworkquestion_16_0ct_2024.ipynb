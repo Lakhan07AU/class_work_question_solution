{
  "nbformat": 4,
  "nbformat_minor": 0,
  "metadata": {
    "colab": {
      "provenance": [],
      "authorship_tag": "ABX9TyN3iNAXO3RMbO67tDE/eiCN",
      "include_colab_link": true
    },
    "kernelspec": {
      "name": "python3",
      "display_name": "Python 3"
    },
    "language_info": {
      "name": "python"
    }
  },
  "cells": [
    {
      "cell_type": "markdown",
      "metadata": {
        "id": "view-in-github",
        "colab_type": "text"
      },
      "source": [
        "<a href=\"https://colab.research.google.com/github/Lakhan07AU/class_work_question_solution/blob/main/classworkquestion_16_0ct_2024.ipynb\" target=\"_parent\"><img src=\"https://colab.research.google.com/assets/colab-badge.svg\" alt=\"Open In Colab\"/></a>"
      ]
    },
    {
      "cell_type": "code",
      "execution_count": null,
      "metadata": {
        "colab": {
          "base_uri": "https://localhost:8080/"
        },
        "id": "O22KfPM0zoZ0",
        "outputId": "8ddaceee-cc76-4a30-d39a-58a8efaa46cc"
      },
      "outputs": [
        {
          "output_type": "stream",
          "name": "stdout",
          "text": [
            "1\n",
            "2\n",
            "3\n",
            "4\n"
          ]
        }
      ],
      "source": [
        "#q1\n",
        "for i in range (1,11):\n",
        "    if i==5:\n",
        "        break\n",
        "    print(i)"
      ]
    },
    {
      "cell_type": "code",
      "source": [
        "#q2\n",
        "n=int(input(\"enter a number:\"))\n",
        "for i in range(1,11):\n",
        "    print(i*n)\n",
        "\n",
        "\n"
      ],
      "metadata": {
        "colab": {
          "base_uri": "https://localhost:8080/"
        },
        "id": "fQJpaJxTzyBn",
        "outputId": "ddf11fc1-560f-40d3-abb0-6e6c6aaa32df"
      },
      "execution_count": null,
      "outputs": [
        {
          "output_type": "stream",
          "name": "stdout",
          "text": [
            "enter a number:7\n",
            "7\n",
            "14\n",
            "21\n",
            "28\n",
            "35\n",
            "42\n",
            "49\n",
            "56\n",
            "63\n",
            "70\n"
          ]
        }
      ]
    },
    {
      "cell_type": "code",
      "source": [
        "#q3\n",
        "count=5\n",
        "while count >0:\n",
        "    print(count)\n",
        "    count=count-1\n",
        "    print(\"lift off\")"
      ],
      "metadata": {
        "colab": {
          "base_uri": "https://localhost:8080/"
        },
        "id": "kOS6rROZz6pe",
        "outputId": "cdafe3bc-ef74-4b25-fd25-a93b8427a786"
      },
      "execution_count": null,
      "outputs": [
        {
          "output_type": "stream",
          "name": "stdout",
          "text": [
            "5\n",
            "lift off\n",
            "4\n",
            "lift off\n",
            "3\n",
            "lift off\n",
            "2\n",
            "lift off\n",
            "1\n",
            "lift off\n"
          ]
        }
      ]
    },
    {
      "cell_type": "code",
      "source": [
        "\n",
        "#q4\n",
        "x = int(input(\"Enter a factorial : \"))\n",
        "factorial = 1\n",
        "if x < 0:\n",
        "    print(\"Factorial is negative numbers.\")\n",
        "elif x == 0 or x == 1:\n",
        "    print(\"Factorial is 1\")\n",
        "else:\n",
        "    for i in range(1, x + 1):\n",
        "        factorial *= i\n",
        "    print(f\"The factorial of {x} is {factorial}\")"
      ],
      "metadata": {
        "colab": {
          "base_uri": "https://localhost:8080/"
        },
        "id": "e_TBG4ib0CNJ",
        "outputId": "f92130e3-a342-49ae-ee16-76464f468279"
      },
      "execution_count": null,
      "outputs": [
        {
          "output_type": "stream",
          "name": "stdout",
          "text": [
            "Enter a factorial : 10\n",
            "The factorial of 10 is 3628800\n"
          ]
        }
      ]
    },
    {
      "cell_type": "code",
      "source": [
        "#q5\n",
        "x = int(input(\"Enter the number: \"))\n",
        "if x > 1:\n",
        "  for i in range(2, int(x** 0.5) + 1):\n",
        "    if x% i== 0:\n",
        "       print(f\"{x} is not a prime number\")\n",
        "    else:\n",
        "         print(f\"{x} is a prime number\")\n",
        "else:\n",
        "     print(f\"{x} is not a prime number\")\n"
      ],
      "metadata": {
        "colab": {
          "base_uri": "https://localhost:8080/"
        },
        "id": "VqeYlr3f0Lpv",
        "outputId": "82226fc7-b6b8-422f-d26b-17b4a725c6f7"
      },
      "execution_count": null,
      "outputs": [
        {
          "output_type": "stream",
          "name": "stdout",
          "text": [
            "Enter the number: 8\n",
            "8 is not a prime number\n"
          ]
        }
      ]
    }
  ]
}